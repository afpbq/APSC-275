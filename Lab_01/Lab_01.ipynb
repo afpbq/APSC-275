{
 "cells": [
  {
   "cell_type": "markdown",
   "id": "bbe069be-c559-496a-972d-bc608c99ed03",
   "metadata": {},
   "source": [
    "#### Load Python libraries"
   ]
  },
  {
   "cell_type": "code",
   "execution_count": 2,
   "id": "5085b865-3213-457a-bec0-cced1c784eae",
   "metadata": {},
   "outputs": [],
   "source": [
    "import numpy as np\n",
    "import matplotlib as mpl\n",
    "import matplotlib.pyplot as plt\n",
    "import scipy.stats as stat"
   ]
  },
  {
   "cell_type": "markdown",
   "id": "04045659-3d5f-42c6-a51e-74e204ae22c0",
   "metadata": {
    "editable": true,
    "slideshow": {
     "slide_type": ""
    },
    "tags": []
   },
   "source": [
    "#### Load data"
   ]
  },
  {
   "cell_type": "code",
   "execution_count": 4,
   "id": "5918bc09-1ffc-4416-8671-95760dc22079",
   "metadata": {
    "editable": true,
    "slideshow": {
     "slide_type": ""
    },
    "tags": []
   },
   "outputs": [],
   "source": [
    "# Load temperature measurement data as an array\n",
    "temp_measured = np.genfromtxt('Lab01 Temperature Data.csv', delimiter = ',')\n",
    "\n",
    "# Load efficiency measurement data as an array\n",
    "eff_measured = np.genfromtxt('Lab01 Solar Panel Efficiency Data.csv', delimiter = ',') "
   ]
  },
  {
   "cell_type": "code",
   "execution_count": null,
   "id": "8d453d28-60f5-440b-bb81-7f8630ad120c",
   "metadata": {},
   "outputs": [],
   "source": []
  },
  {
   "cell_type": "markdown",
   "id": "e1a9fa7b-5823-4709-ae3f-8e57149f5e53",
   "metadata": {
    "editable": true,
    "slideshow": {
     "slide_type": ""
    },
    "tags": []
   },
   "source": [
    "#### 1. Create histograms for the solar panel operating temperature and efficiency.\r\n"
   ]
  },
  {
   "cell_type": "markdown",
   "id": "08754ad8-ea33-441c-9b6e-e8f54a636389",
   "metadata": {},
   "source": [
    "##### Temperature histogram"
   ]
  },
  {
   "cell_type": "code",
   "execution_count": null,
   "id": "84b1de8c-a1a5-4919-88f8-96a57e52857d",
   "metadata": {},
   "outputs": [],
   "source": [
    "# Plot a histogram of temperature measurements\n",
    "plt.hist(temp_measured, bins=10, histtype='bar', ec='black')\n",
    "# Plot vertical line for the mean\n",
    "plt.axvline(x=np.mean(temp_measured), color = 'r', ls = 'dashed')\n",
    "plt.grid() #Plots gridlines\n",
    "plt.tick_params(direction='in') #Move tick marks inside axes\n",
    "plt.title(r\"$\\mathrm{Measured\\/\\/Temperature}$\") #Add title\n",
    "plt.xlabel(r\"$\\mathit{T}\\/\\/\\mathrm{[°C]}$\") #Add horizontal axis label\n",
    "plt.ylabel(r\"$\\mathrm{Number\\/\\/of\\/\\/Measurements}$\") #Add vertical axis label\n",
    "mpl.rcParams.update({'font.size': 16}) #Changes font size\n",
    "plt.rcParams['axes.axisbelow'] = True #Forces gridlines behind histogram bars\n",
    "plt.show() #Display histogram plot"
   ]
  },
  {
   "cell_type": "markdown",
   "id": "92369941-d3bd-412e-8e74-e124777793ce",
   "metadata": {},
   "source": [
    "##### Efficiency histogram"
   ]
  },
  {
   "cell_type": "code",
   "execution_count": null,
   "id": "f199343f-d595-441b-8b4a-0f2f109e2f92",
   "metadata": {},
   "outputs": [],
   "source": [
    "# Plot a histogram of efficiency measurments\n",
    "plt.figure() #Create a new figure\n",
    "#Plot histogram with 10 bins and black lines that separate columns\n",
    "plt.hist(eff_measured, bins=10, histtype='bar', ec='black')\n",
    "# Plot vertical line for the mean\n",
    "plt.axvline(x=np.mean(eff_measured), color = 'r', ls = 'dashed')\n",
    "plt.grid() #Plots gridlines\n",
    "plt.tick_params(direction='in') #Move tick marks inside axes\n",
    "plt.title(r\"$\\mathrm{Measured\\/\\/Efficiency}$\") #Add title\n",
    "plt.xlabel(r\"$\\mathrm{Energy\\/\\/Efficiency\\/\\/[\\%]}$\") #Add horizontal axis label\n",
    "plt.ylabel(r\"$\\mathrm{Number\\/\\/of\\/\\/Measurements}$\") #Add vertical axis label\n",
    "mpl.rcParams.update({'font.size': 16}) #Changes font size\n",
    "plt.rcParams['axes.axisbelow'] = True #Forces gridlines behind histogram bars\n",
    "plt.show() #Display histogram plot"
   ]
  },
  {
   "cell_type": "markdown",
   "id": "d4e56b71-91db-4ead-a3b0-525cfb6b893b",
   "metadata": {},
   "source": [
    "#### 2) Compare the mean and median values for each of the temperature and efficiency\r",
    "#### 3) Compare the standard deviation and interquartile range for each dataset.\r\n"
   ]
  },
  {
   "cell_type": "code",
   "execution_count": null,
   "id": "f76f9b61-5fda-4be6-a3a0-f07d8e94a478",
   "metadata": {},
   "outputs": [],
   "source": [
    "# Calculate the mean and median values for the temperature measurements\n",
    "T_mean = np.mean(temp_measured) #Calculates mean\n",
    "print(\"T_mean =\", T_mean) #Prints mean value\n",
    "\n",
    "T_median = np.median(temp_measured) #Calculates median\n",
    "print(\"T_median =\", T_median) #Prints median value\n",
    "\n",
    "T_std = np.std(temp_measured) #Calculate standard deviation \n",
    "print(\"T_std =\", T_std) #Print standard deviation value\n",
    "\n",
    "T_IQR = stat.iqr(temp_measured) #Calculate interquartile Range\n",
    "print(\"T_IQR =\", T_IQR) #Print interquartile range value"
   ]
  },
  {
   "cell_type": "code",
   "execution_count": null,
   "id": "b777466c-c7a1-4b1d-98da-959ddda4e0c5",
   "metadata": {},
   "outputs": [],
   "source": [
    "# Calculate the mean and median values for the efficiency measurements\n",
    "eff_mean = np.mean(eff_measured) #Calculate mean\n",
    "print(\"eff_mean =\", eff_mean) #Print mean value \n",
    "eff_median = np.median(eff_measured) #Calculate median\n",
    "print(\"eff_median =\", eff_median) #Print median value\n",
    "\n",
    "# Calculate the standard deviation and interquartile range for the efficiency measurements\n",
    "eff_std = np.std(eff_measured) #Calculate standard deviation\n",
    "print(\"eff_std =\", eff_std) #Print standard deviation\n",
    "eff_IQR = stat.iqr(eff_measured) #Calculate interquartile range\n",
    "print(\"eff_IQR =\", eff_IQR) #Print interquartile range"
   ]
  },
  {
   "cell_type": "markdown",
   "id": "c0dbbf38-8825-4dbf-afb3-384a964790b9",
   "metadata": {},
   "source": [
    "#### 4) Produce a box plot summarizing each dataset.\r\n"
   ]
  },
  {
   "cell_type": "code",
   "execution_count": null,
   "id": "829a5ffa-7aa3-4eb4-8253-626bbdb327b3",
   "metadata": {},
   "outputs": [],
   "source": [
    "# Generate boxplot for temperature data\n",
    "plt.figure(figsize =(2,4)) #Create a new figure\n",
    "plt.grid() #Plot gridlines\n",
    "bp1 = plt.boxplot(temp_measured) #Assign handle to and plot boxplot\n",
    "# plt.rcParams['axes.axisbelow'] = True #Set gridlines beneath boxplot\n",
    "# plt.tick_params(direction='in') #Move tick marks inside plot\n",
    "plt.title(r\"$\\mathrm{Measured\\/\\/Temperature}$\",fontsize=14, y=1.05) #Add title\n",
    "plt.ylabel(r\"$\\mathrm{Temperature\\/\\/[°C]}$\") #Label vertical axis\n",
    "plt.xticks([]) #Remove ticks from horizontal axis\n",
    "plt.yticks([-30,-20,-10,0,10,20,30,40]) #Add specific ticks to vertical axis\n",
    "# for whisker in bp1['whiskers']: #Set line thickness for whisker of boxplot\n",
    "#     whisker.set(linewidth = 2)\n",
    "# for cap in bp1['caps']: #Set line thickness of boxplot caps\n",
    "#     cap.set(linewidth = 2)   \n",
    "# for flier in bp1['fliers']: #Set marker style for outliers\n",
    "#     flier.set(marker = 'x')\n",
    "# for median in bp1['medians']: #Set line thickness of median line\n",
    "#     median.set(linewidth = 2)\n",
    "# for box in bp1['boxes']: #Set line thickness of box\n",
    "#     box.set(linewidth = 2)\n",
    "mpl.rcParams.update({'font.size': 16}) #Set font size\n",
    "plt.show() #Display boxplot"
   ]
  },
  {
   "cell_type": "code",
   "execution_count": null,
   "id": "99843bbf-0bc0-438b-9b82-5d743ec6bb70",
   "metadata": {},
   "outputs": [],
   "source": [
    "# Generate boxplot for ee data\n",
    "plt.figure(figsize =(2,4)) #Create a new figure\n",
    "bp2 = plt.boxplot(eff_measured) #Assign handle to and plot boxplot\n",
    "plt.rcParams['axes.axisbelow'] = True #Set gridlines beneath boxplot\n",
    "plt.tick_params(direction='in') #Move tick marks inside plot\n",
    "plt.grid() #Plot gridlines\n",
    "plt.title(r\"$\\mathrm{Measured\\/\\/Efficiency}$\",fontsize=14,y=1.05)\n",
    "plt.ylabel(r\"$\\mathrm{Efficiency\\/\\/[\\%]}$\") #Label vertical axis\n",
    "plt.xticks([]) #Remove ticks from horizontal axis\n",
    "plt.yticks([10,12,14,16,18,20,22,24]) #Add specific ticks to vertical axis\n",
    "# for whisker in bp2['whiskers']: #Set line thickness for whisker of boxplot\n",
    "#     whisker.set(linewidth = 2)\n",
    "# for cap in bp2['caps']: #Set line thickness of boxplot caps\n",
    "#     cap.set(linewidth = 2)   \n",
    "# for flier in bp2['fliers']: #Set marker style for outliers\n",
    "#     flier.set(marker = 'x')\n",
    "# for median in bp2['medians']: #Set line thickness of median line\n",
    "#     median.set(linewidth = 2)\n",
    "# for box in bp2['boxes']: #Set line thickness of box\n",
    "#     box.set(linewidth = 2)\n",
    "mpl.rcParams.update({'font.size': 16}) #Set font size\n",
    "plt.show() #Display boxplot"
   ]
  },
  {
   "cell_type": "markdown",
   "id": "735b45cd-4c27-444d-a393-34ab36d04a65",
   "metadata": {},
   "source": [
    "#### 5) Generate theoretical histograms that simulate the panel operating specifications. \n",
    "Compare your result with the histograms for the measured datasets."
   ]
  },
  {
   "cell_type": "code",
   "execution_count": null,
   "id": "756f5716-2cc0-493f-a008-b392eedf433f",
   "metadata": {},
   "outputs": [],
   "source": [
    "# Generate simulated data from distribution parameters for Temperature\n",
    "mu_T, sigma_T, N_T = 15, 5, 1095\n",
    "temp_simulated = np.random.normal(mu_T, sigma_T, N_T)\n",
    "\n",
    "# Plot a histogram of simulated temperature data\n",
    "plt.figure()\n",
    "plt.rcParams['axes.axisbelow'] = True #Forces gridlines behind histogram bars\n",
    "plt.hist(temp_measured, bins=10, histtype='bar', ec='black',\n",
    "label='Measured') #Plot histogram with 10 bins and black lines that separate columns\n",
    "plt.hist(temp_simulated, bins=10, histtype='bar', ec='black',\n",
    "label='Simulated') #Plot histogram with 10 bins and black lines that separate columns\n",
    "plt.axvline(x=np.mean(temp_measured), color = 'b', ls = 'dashed')\n",
    "plt.axvline(x=np.mean(temp_simulated), color = 'r', ls = 'dashed')\n",
    "plt.grid() #Plots gridlines\n",
    "plt.tick_params(direction='in') #Move tick marks inside axes\n",
    "plt.xlabel(r\"$\\mathit{T}\\/\\/\\mathrm{[°C]}$\") #Add horizontal axis label\n",
    "plt.ylabel(r\"$\\mathrm{Number\\/\\/of\\/\\/Measurements}$\") #Add vertical axis label\n",
    "plt.title(r\"$\\mathrm{Compared\\/\\/Temperature}$\") #Figure title\n",
    "plt.legend() #Add Legend\n",
    "mpl.rcParams.update({'font.size': 16}) #Changes font size\n",
    "plt.show() #Display histogram plot"
   ]
  },
  {
   "cell_type": "code",
   "execution_count": null,
   "id": "11d1a816-87c1-4981-9f19-362b8b8e0981",
   "metadata": {},
   "outputs": [],
   "source": [
    "# Generate simulated data from distribution parameters for efficiency\n",
    "mu_eff, sigma_eff, N_eff = 17, 2, 1095\n",
    "eff_simulated = np.random.normal(mu_eff, sigma_eff, N_eff)\n",
    "\n",
    "# Compared histograms of measured and simulated efficiency\n",
    "plt.figure() \n",
    "plt.rcParams['axes.axisbelow'] = True #Forces gridlines behind histogram bars\n",
    "plt.hist(eff_measured, bins=10, histtype='bar', ec='black', fc = '#1f77b4',\n",
    "         label='Measured', zorder=2) #Plot histogram with 10 bins and black lines that separate columns\n",
    "plt.hist(eff_simulated, bins=10, histtype='bar', ec='black', fc = '#ff7f0e',\n",
    "         label='Simulated', zorder=1) #Plot histogram with 10 bins and black lines that separate columns\n",
    "plt.axvline(x=np.mean(eff_measured), color = 'b', ls = 'dashed')\n",
    "plt.axvline(x=np.mean(eff_simulated), color = 'r', ls = 'dashed')\n",
    "plt.grid() #Plots gridlines\n",
    "plt.tick_params(direction='in') #Move tick marks inside axes\n",
    "plt.ylabel(r\"$\\mathrm{Number\\/\\/of\\/\\/Measurements}$\") #Add vertical axis label\n",
    "plt.xlabel(r\"$\\mathrm{Energy\\/\\/Efficiency\\/\\/[\\%]}$\") #Add horizontal axis label\n",
    "plt.ylabel(r\"$\\mathrm{Number\\/\\/of\\/\\/Measurements}$\") #Add vertical axis label\n",
    "plt.title(r\"$\\mathrm{Compared\\/\\/Efficiency}$\")\n",
    "#Figure title\n",
    "plt.legend() #Add legend\n",
    "mpl.rcParams.update({'font.size': 16}) #Changes font size\n",
    "plt.show() #Display histogram plot"
   ]
  },
  {
   "cell_type": "markdown",
   "id": "58268947-527b-47dd-9f36-93366cb2b4da",
   "metadata": {},
   "source": [
    "#### 6) Produce a box plot for each simulated dataset."
   ]
  },
  {
   "cell_type": "code",
   "execution_count": null,
   "id": "d468d34c-ff49-408a-baad-49767fa1fed2",
   "metadata": {},
   "outputs": [],
   "source": [
    "# Generate boxplot for temperature data\n",
    "fig = plt.figure(figsize =(4,4)) #Create a new figure\n",
    "ax0 = plt.subplot(121)\n",
    "ax0.boxplot(temp_simulated) #Assign handle to and plot boxplot\n",
    "plt.xticks([])\n",
    "ax0.set_title(r\"$\\mathrm{Simulated}$\",fontsize=14,y=1.05)\n",
    "ax0.set_ylabel(r\"$\\mathrm{Temperature\\/\\/[°C]}$\") #Label vertical axis\n",
    "\n",
    "ax1 = plt.subplot(122, sharey = ax0)\n",
    "plt.boxplot(temp_measured) #Assign handle to and plot boxplot\n",
    "ax1.set_title(r\"$\\mathrm{Measured}$\",fontsize=14,y=1.05)\n",
    "# plt.title(r\"$\\mathrm{Measured\\/\\/Temperature}$\",fontsize=14,y=1.05)\n",
    "# plt.ylabel(r\"$\\mathrm{Temperature\\/\\/[°C]}$\") #Label vertical axis\n",
    "# plt.tight_layout()\n",
    "plt.setp(ax1.get_yticklabels(), visible=False)\n",
    "plt.xticks([])\n",
    "plt.subplots_adjust(left=0.1,\n",
    "                    bottom=0.1, \n",
    "                    right=0.9, \n",
    "                    top=0.9, \n",
    "                    wspace=0.5, \n",
    "                    hspace=0.2)\n",
    "plt.show() #Display boxplot"
   ]
  },
  {
   "cell_type": "code",
   "execution_count": null,
   "id": "0a554fa0-15a3-4bb2-952f-0319ccddee17",
   "metadata": {},
   "outputs": [],
   "source": [
    "# Generate boxplot for temperature data\n",
    "fig = plt.figure(figsize =(4,4)) #Create a new figure\n",
    "ax0 = plt.subplot(121)\n",
    "ax0.boxplot(eff_simulated) #Assign handle to and plot boxplot\n",
    "plt.xticks([])\n",
    "ax0.set_title(r\"$\\mathrm{Simulated}$\",fontsize=14,y=1.05)\n",
    "ax0.set_ylabel(r\"$\\mathrm{Energy\\/\\/Efficiency\\/\\/[\\%]}$\") #Label vertical axis\n",
    "\n",
    "ax1 = plt.subplot(122, sharey = ax0)\n",
    "ax1.boxplot(eff_measured) #Assign handle to and plot boxplot\n",
    "ax1.set_title(r\"$\\mathrm{Measured}$\",fontsize=14,y=1.05)\n",
    "# plt.title(r\"$\\mathrm{Measured\\/\\/Temperature}$\",fontsize=14,y=1.05)\n",
    "# plt.ylabel(r\"$\\mathrm{Temperature\\/\\/[°C]}$\") #Label vertical axis\n",
    "# plt.tight_layout()\n",
    "plt.setp(ax1.get_yticklabels(), visible=False)\n",
    "plt.xticks([])\n",
    "plt.subplots_adjust(left=0.1,\n",
    "                    bottom=0.1, \n",
    "                    right=0.9, \n",
    "                    top=0.9, \n",
    "                    wspace=0.5, \n",
    "                    hspace=0.2)\n",
    "plt.show() #Display boxplot"
   ]
  },
  {
   "cell_type": "markdown",
   "id": "1022dd1b-0a7d-483f-be68-6e7ad3fcaf78",
   "metadata": {},
   "source": [
    "#### 7) Provide a recommendation on whether the measured datasets are within the operating specifications."
   ]
  },
  {
   "cell_type": "markdown",
   "id": "2fc03866-499e-40a4-b14f-7e3980edca26",
   "metadata": {},
   "source": []
  }
 ],
 "metadata": {
  "kernelspec": {
   "display_name": "Python 3 (ipykernel)",
   "language": "python",
   "name": "python3"
  },
  "language_info": {
   "codemirror_mode": {
    "name": "ipython",
    "version": 3
   },
   "file_extension": ".py",
   "mimetype": "text/x-python",
   "name": "python",
   "nbconvert_exporter": "python",
   "pygments_lexer": "ipython3",
   "version": "3.11.6"
  }
 },
 "nbformat": 4,
 "nbformat_minor": 5
}
